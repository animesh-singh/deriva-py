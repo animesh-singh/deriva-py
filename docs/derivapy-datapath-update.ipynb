{
 "cells": [
  {
   "cell_type": "markdown",
   "metadata": {},
   "source": [
    "# DataPath :: Data Update Example\n",
    "This notebook demonstrates how to make simple data updates on tables."
   ]
  },
  {
   "cell_type": "code",
   "execution_count": 1,
   "metadata": {
    "collapsed": true
   },
   "outputs": [],
   "source": [
    "from deriva.core import ErmrestCatalog, get_credential"
   ]
  },
  {
   "cell_type": "markdown",
   "metadata": {},
   "source": [
    "This example uses a development server with a throw away catalog. You *will not* have sufficient permissions to be able to run this example. This notebook is for documentation purpose only."
   ]
  },
  {
   "cell_type": "code",
   "execution_count": 2,
   "metadata": {},
   "outputs": [],
   "source": [
    "scheme = 'https'\n",
    "hostname = 'dev.facebase.org'\n",
    "catalog_number = 5"
   ]
  },
  {
   "cell_type": "markdown",
   "metadata": {},
   "source": [
    "Use DERIVA-Auth to get a `credential` or use `None` if your catalog allows anonymous access."
   ]
  },
  {
   "cell_type": "code",
   "execution_count": 3,
   "metadata": {
    "collapsed": true
   },
   "outputs": [],
   "source": [
    "credential = get_credential(hostname)"
   ]
  },
  {
   "cell_type": "markdown",
   "metadata": {},
   "source": [
    "Now, connect to your catalog and the `pathbuilder` interface for the catalog."
   ]
  },
  {
   "cell_type": "code",
   "execution_count": 4,
   "metadata": {},
   "outputs": [],
   "source": [
    "assert scheme == 'http' or scheme == 'https', \"Invalid http scheme used.\"\n",
    "assert isinstance(hostname, str), \"Hostname not set.\"\n",
    "assert isinstance(catalog_number, int), \"Invalid catalog number\"\n",
    "catalog = ErmrestCatalog(scheme, hostname, catalog_number, credential)\n",
    "pb = catalog.getPathBuilder()"
   ]
  },
  {
   "cell_type": "markdown",
   "metadata": {},
   "source": [
    "For this example, we will create or modify entities of the \"Dataset\" table of a catalog that uses the FaceBase data model."
   ]
  },
  {
   "cell_type": "code",
   "execution_count": 5,
   "metadata": {},
   "outputs": [
    {
     "data": {
      "text/plain": [
       "Table name: 'dataset'\nList of columns:\n  Column name: 'id'\tType: serial4\tComment: 'None'\n  Column name: 'accession'\tType: text\tComment: 'None'\n  Column name: 'title'\tType: text\tComment: 'None'\n  Column name: 'project'\tType: int8\tComment: 'None'\n  Column name: 'funding'\tType: text\tComment: 'None'\n  Column name: 'summary'\tType: text\tComment: 'None'\n  Column name: 'description'\tType: markdown\tComment: 'None'\n  Column name: 'view_gene_summary'\tType: text\tComment: 'None'\n  Column name: 'view_related_datasets'\tType: text\tComment: 'None'\n  Column name: 'mouse_genetic'\tType: text\tComment: 'None'\n  Column name: 'human_anatomic'\tType: text\tComment: 'None'\n  Column name: 'study_design'\tType: markdown\tComment: 'None'\n  Column name: 'release_date'\tType: date\tComment: 'None'\n  Column name: 'status'\tType: int4\tComment: 'None'\n  Column name: 'gene_summary'\tType: int4\tComment: 'None'\n  Column name: 'thumbnail'\tType: int4\tComment: 'None'\n  Column name: 'show_in_jbrowse'\tType: boolean\tComment: 'None'\n  Column name: '_keywords'\tType: text\tComment: 'None'\n  Column name: 'RID'\tType: ermrest_rid\tComment: 'System-generated unique row ID.'\n  Column name: 'RCB'\tType: ermrest_rcb\tComment: 'System-generated row created by user provenance.'\n  Column name: 'RMB'\tType: ermrest_rmb\tComment: 'System-generated row modified by user provenance.'\n  Column name: 'RCT'\tType: ermrest_rct\tComment: 'System-generated row creation timestamp.'\n  Column name: 'RMT'\tType: ermrest_rmt\tComment: 'System-generated row modification timestamp'"
      ]
     },
     "execution_count": 5,
     "metadata": {},
     "output_type": "execute_result"
    }
   ],
   "source": [
    "dataset = pb.isa.dataset\n",
    "dataset"
   ]
  },
  {
   "cell_type": "markdown",
   "metadata": {},
   "source": [
    "## Insert example\n",
    "Here we will insert an entity into the dataset table."
   ]
  },
  {
   "cell_type": "code",
   "execution_count": 9,
   "metadata": {},
   "outputs": [
    {
     "name": "stdout",
     "output_type": "stream",
     "text": [
      "[{'id': 14163, 'accession': 'FB00000918', 'RID': 34928, 'title': 'A test dataset by derivapy', 'project': None, 'funding': None, 'summary': None, 'description': 'This was created by the deriva-py API.', 'view_gene_summary': None, 'view_related_datasets': None, 'mouse_genetic': None, 'human_anatomic': None, 'study_design': None, 'release_date': None, 'status': None, 'gene_summary': None, 'thumbnail': None, 'show_in_jbrowse': None, '_keywords': None, 'RCB': 'https://auth.globus.org/bb256144-d274-11e5-adb1-13a4cc43acbd', 'RMB': 'https://auth.globus.org/bb256144-d274-11e5-adb1-13a4cc43acbd', 'RCT': '2018-01-08T11:52:34.600591-08:00', 'RMT': '2018-01-08T11:52:34.600591-08:00'}]\n"
     ]
    }
   ],
   "source": [
    "new_entity = {'title': 'A test dataset by derivapy', \n",
    "              'description': 'This was created by the deriva-py API.'}\n",
    "entities = dataset.insert([new_entity], defaults={'id', 'accession'})\n",
    "print(entities)"
   ]
  },
  {
   "cell_type": "code",
   "execution_count": null,
   "metadata": {},
   "outputs": [],
   "source": []
  }
 ],
 "metadata": {
  "kernelspec": {
   "display_name": "Python 3",
   "language": "python",
   "name": "python3"
  },
  "language_info": {
   "codemirror_mode": {
    "name": "ipython",
    "version": 3
   },
   "file_extension": ".py",
   "mimetype": "text/x-python",
   "name": "python",
   "nbconvert_exporter": "python",
   "pygments_lexer": "ipython3",
   "version": "3.6.2"
  }
 },
 "nbformat": 4,
 "nbformat_minor": 2
}
