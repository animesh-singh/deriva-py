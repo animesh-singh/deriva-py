{
 "cells": [
  {
   "cell_type": "markdown",
   "metadata": {
    "collapsed": true
   },
   "source": [
    "# Datapath Example 2\n",
    "This notebook gives a very basic example of how to access data. \n",
    "It assumes that you understand the concepts presented in the \n",
    "example 1 notebook."
   ]
  },
  {
   "cell_type": "code",
   "execution_count": 1,
   "metadata": {
    "collapsed": true
   },
   "outputs": [],
   "source": [
    "# Import deriva modules\n",
    "from deriva_common import ErmrestCatalog, get_credential"
   ]
  },
  {
   "cell_type": "code",
   "execution_count": 2,
   "metadata": {
    "collapsed": true
   },
   "outputs": [],
   "source": [
    "# Connect with the deriva catalog\n",
    "protocol = 'https'\n",
    "hostname = 'www.facebase.org'\n",
    "catalog_number = 1\n",
    "credential = None\n",
    "# If you need to authenticate, use Deriva Auth agent and get the credential\n",
    "# credential = get_credential(hostname)\n",
    "catalog = ErmrestCatalog(protocol, hostname, catalog_number, credential)"
   ]
  },
  {
   "cell_type": "code",
   "execution_count": 3,
   "metadata": {
    "collapsed": true
   },
   "outputs": [],
   "source": [
    "# Get the path builder interface for this catalog\n",
    "pb = catalog.getPathBuilder()"
   ]
  },
  {
   "cell_type": "markdown",
   "metadata": {},
   "source": [
    "## DataPaths\n",
    "The path builder interface allows you to build data paths from the base tables that are accessed via the interface. A data path begins with a table (or an \"aliased\" table to be discussed later). The this \"root\" one can \"`link`\", \"`filter`\", \"`reset_context`\", project \"`attributes`\", and fetch the referenced \"`entities`\".\n",
    "\n",
    "Begin by getting a base table, \"`dataset`\", from the \"`isa`\" schema accessible from the path builder."
   ]
  },
  {
   "cell_type": "code",
   "execution_count": 4,
   "metadata": {
    "collapsed": true
   },
   "outputs": [],
   "source": [
    "dataset = pb.isa.dataset"
   ]
  },
  {
   "cell_type": "markdown",
   "metadata": {},
   "source": [
    "## DataPath URIs\n",
    "All data paths have URIs for the referenced resources in ERMrest. The URI identifies the resources which are available through Web protocols."
   ]
  },
  {
   "cell_type": "code",
   "execution_count": 5,
   "metadata": {},
   "outputs": [
    {
     "name": "stdout",
     "output_type": "stream",
     "text": [
      "https://www.facebase.org/ermrest/catalog/1/entity/isa:dataset\n"
     ]
    }
   ],
   "source": [
    "print(dataset.uri)"
   ]
  },
  {
   "cell_type": "markdown",
   "metadata": {},
   "source": [
    "## EntitySets\n",
    "The data from a data path are accessed through a pythonic container object, the \"`EntitySet`.\" The entity set is returned by the datapath object's \"`entities()`\" method. The entity set fetches the entities from ERMrest on first access (such as checking its length, iterating over it, or getting an item)."
   ]
  },
  {
   "cell_type": "code",
   "execution_count": 6,
   "metadata": {
    "collapsed": true
   },
   "outputs": [],
   "source": [
    "entityset = dataset.entities()"
   ]
  },
  {
   "cell_type": "markdown",
   "metadata": {},
   "source": [
    "Entity sets behave like python containers. For example, we can check the count of rows in this entity set. This is also the point in time that the actual fetch from the server will be performed."
   ]
  },
  {
   "cell_type": "code",
   "execution_count": 7,
   "metadata": {},
   "outputs": [
    {
     "data": {
      "text/plain": [
       "712"
      ]
     },
     "execution_count": 7,
     "metadata": {},
     "output_type": "execute_result"
    }
   ],
   "source": [
    "len(entityset)"
   ]
  },
  {
   "cell_type": "markdown",
   "metadata": {},
   "source": [
    "### Get an entity\n",
    "Access and print one of the entities in the set."
   ]
  },
  {
   "cell_type": "code",
   "execution_count": 8,
   "metadata": {},
   "outputs": [
    {
     "name": "stdout",
     "output_type": "stream",
     "text": [
      "{'id': 10521, 'accession': 'FB00000288.02', 'title': 'microCT - Soft Tissue of Smad4fl/fl Control Mouse at E18.5', 'project': 156, 'funding': 'This study was supported by grants from the National Institute of Dental and Craniofacial Research, NIH (DE012711, DE014078, DE017007, and DE020065) to Yang Chai.', 'summary': 'Mouse ID: DH202; This dataset includes a microCT scan of the skull of a Smad4fl/fl mouse at E18.5. The scan is in NiFTI format, which can be read by a number of free software applications including those listed below. To receive the scan in DICOM format, please email help@facebase.org. The following programs allow you to load and explore files in NiFTI format: -- ImageJ, a java-based program that runs on most operating systems, including MAC OSX -- MBAT, from the Laboratory of Neural Imaging at USC -- Mango, from Neuroimaging Informatics Tools and Resources Clearinghouse, offers desktop, web, and iPad-compatible versions. -- MRIcro, which runs on Windows and Linux systems. ', 'description': 'Mouse ID: DH202\\n This dataset includes a microCT scan of the skull of a Smad4fl/fl mouse at E18.5.\\nThe scan is in NiFTI format. See Help section for a list of free applications to view files in NiFTI format   ', 'view_gene_summary': None, 'view_related_datasets': 'Smad4', 'mouse_genetic': None, 'human_anatomic': None, 'study_design': None, 'release_date': '2015-06-01', 'status': 2, 'gene_summary': None, 'thumbnail': 1197, 'show_in_jbrowse': None, '_keywords': 'Research on Functional Genomics, Image Analysis and Rescue of Cleft Palate Released'}\n"
     ]
    }
   ],
   "source": [
    "print(entityset[9])"
   ]
  },
  {
   "cell_type": "markdown",
   "metadata": {},
   "source": [
    "### Get a column value from an entity\n",
    "Access and print one attribute (column) from one entity in the set."
   ]
  },
  {
   "cell_type": "code",
   "execution_count": 9,
   "metadata": {},
   "outputs": [
    {
     "name": "stdout",
     "output_type": "stream",
     "text": [
      "FB00000288.02\n"
     ]
    }
   ],
   "source": [
    "print (entityset[9][dataset.accession.name])"
   ]
  },
  {
   "cell_type": "markdown",
   "metadata": {},
   "source": [
    "## Set a Limit\n",
    "Set a limit on the query. Here we request only 3 entities from the server."
   ]
  },
  {
   "cell_type": "code",
   "execution_count": 10,
   "metadata": {},
   "outputs": [
    {
     "data": {
      "text/plain": [
       "3"
      ]
     },
     "execution_count": 10,
     "metadata": {},
     "output_type": "execute_result"
    }
   ],
   "source": [
    "entityset_limit3 = dataset.entities(limit=3)\n",
    "len(entityset_limit3)"
   ]
  },
  {
   "cell_type": "markdown",
   "metadata": {},
   "source": [
    "### Iterate over the entity set\n",
    "Entity sets are iterable."
   ]
  },
  {
   "cell_type": "code",
   "execution_count": 11,
   "metadata": {},
   "outputs": [
    {
     "name": "stdout",
     "output_type": "stream",
     "text": [
      "FB00000827\n",
      "FB00000861\n",
      "FB00000380.01\n"
     ]
    }
   ],
   "source": [
    "for e in entityset_limit3:\n",
    "    print(e[dataset.accession.name])"
   ]
  },
  {
   "cell_type": "markdown",
   "metadata": {},
   "source": [
    "## Convert to Pandas DataFrame\n",
    "Entity sets can be transformed into the popular Pandas DataFrame."
   ]
  },
  {
   "cell_type": "code",
   "execution_count": 12,
   "metadata": {},
   "outputs": [
    {
     "data": {
      "text/html": [
       "<div>\n",
       "<style>\n",
       "    .dataframe thead tr:only-child th {\n",
       "        text-align: right;\n",
       "    }\n",
       "\n",
       "    .dataframe thead th {\n",
       "        text-align: left;\n",
       "    }\n",
       "\n",
       "    .dataframe tbody tr th {\n",
       "        vertical-align: top;\n",
       "    }\n",
       "</style>\n",
       "<table border=\"1\" class=\"dataframe\">\n",
       "  <thead>\n",
       "    <tr style=\"text-align: right;\">\n",
       "      <th></th>\n",
       "      <th>_keywords</th>\n",
       "      <th>accession</th>\n",
       "      <th>description</th>\n",
       "      <th>funding</th>\n",
       "      <th>gene_summary</th>\n",
       "      <th>human_anatomic</th>\n",
       "      <th>id</th>\n",
       "      <th>mouse_genetic</th>\n",
       "      <th>project</th>\n",
       "      <th>release_date</th>\n",
       "      <th>show_in_jbrowse</th>\n",
       "      <th>status</th>\n",
       "      <th>study_design</th>\n",
       "      <th>summary</th>\n",
       "      <th>thumbnail</th>\n",
       "      <th>title</th>\n",
       "      <th>view_gene_summary</th>\n",
       "      <th>view_related_datasets</th>\n",
       "    </tr>\n",
       "  </thead>\n",
       "  <tbody>\n",
       "    <tr>\n",
       "      <th>0</th>\n",
       "      <td>Epigenetic landscapes and regulatory divergenc...</td>\n",
       "      <td>FB00000827</td>\n",
       "      <td>Tg(hg19_chr7:145843942-145844366::LacZ) activi...</td>\n",
       "      <td>U01 DE024430</td>\n",
       "      <td>None</td>\n",
       "      <td>None</td>\n",
       "      <td>14062</td>\n",
       "      <td>None</td>\n",
       "      <td>307</td>\n",
       "      <td>2016-01-01</td>\n",
       "      <td>None</td>\n",
       "      <td>3</td>\n",
       "      <td>None</td>\n",
       "      <td>Activity of human neural crest enhancer in E11...</td>\n",
       "      <td>442</td>\n",
       "      <td>Activity of human neural crest enhancer in E11...</td>\n",
       "      <td>None</td>\n",
       "      <td>None</td>\n",
       "    </tr>\n",
       "    <tr>\n",
       "      <th>1</th>\n",
       "      <td>Developing 3D Craniofacial Morphometry Data an...</td>\n",
       "      <td>FB00000861</td>\n",
       "      <td>Human-subject dataset with scans (in .ply form...</td>\n",
       "      <td>None</td>\n",
       "      <td>None</td>\n",
       "      <td>None</td>\n",
       "      <td>14096</td>\n",
       "      <td>None</td>\n",
       "      <td>301</td>\n",
       "      <td>2017-03-03</td>\n",
       "      <td>None</td>\n",
       "      <td>3</td>\n",
       "      <td>None</td>\n",
       "      <td>Human-subject dataset with scans for the 3D cr...</td>\n",
       "      <td>442</td>\n",
       "      <td>Developing 3D Craniofacial Morphometry Data an...</td>\n",
       "      <td>None</td>\n",
       "      <td>None</td>\n",
       "    </tr>\n",
       "    <tr>\n",
       "      <th>2</th>\n",
       "      <td>Functional Analysis of Neural Crest and Palate...</td>\n",
       "      <td>FB00000380.01</td>\n",
       "      <td>microMRI images of skulls of Ctgftm1Kml/Ctgft...</td>\n",
       "      <td>PIs: Scott Fraser and Seth Ruffins. This work ...</td>\n",
       "      <td>None</td>\n",
       "      <td>None</td>\n",
       "      <td>6399</td>\n",
       "      <td>None</td>\n",
       "      <td>151</td>\n",
       "      <td>2015-06-01</td>\n",
       "      <td>None</td>\n",
       "      <td>2</td>\n",
       "      <td>None</td>\n",
       "      <td>microMRI images of skulls of Ctgftm1Kml/Ctgft...</td>\n",
       "      <td>382</td>\n",
       "      <td>microMRI images of skulls of Ctgftm1Kml/Ctgftm...</td>\n",
       "      <td>None</td>\n",
       "      <td>None</td>\n",
       "    </tr>\n",
       "  </tbody>\n",
       "</table>\n",
       "</div>"
      ],
      "text/plain": [
       "                                           _keywords      accession  \\\n",
       "0  Epigenetic landscapes and regulatory divergenc...     FB00000827   \n",
       "1  Developing 3D Craniofacial Morphometry Data an...     FB00000861   \n",
       "2  Functional Analysis of Neural Crest and Palate...  FB00000380.01   \n",
       "\n",
       "                                         description  \\\n",
       "0  Tg(hg19_chr7:145843942-145844366::LacZ) activi...   \n",
       "1  Human-subject dataset with scans (in .ply form...   \n",
       "2   microMRI images of skulls of Ctgftm1Kml/Ctgft...   \n",
       "\n",
       "                                             funding gene_summary  \\\n",
       "0                                       U01 DE024430         None   \n",
       "1                                               None         None   \n",
       "2  PIs: Scott Fraser and Seth Ruffins. This work ...         None   \n",
       "\n",
       "  human_anatomic     id mouse_genetic  project release_date show_in_jbrowse  \\\n",
       "0           None  14062          None      307   2016-01-01            None   \n",
       "1           None  14096          None      301   2017-03-03            None   \n",
       "2           None   6399          None      151   2015-06-01            None   \n",
       "\n",
       "   status study_design                                            summary  \\\n",
       "0       3         None  Activity of human neural crest enhancer in E11...   \n",
       "1       3         None  Human-subject dataset with scans for the 3D cr...   \n",
       "2       2         None   microMRI images of skulls of Ctgftm1Kml/Ctgft...   \n",
       "\n",
       "   thumbnail                                              title  \\\n",
       "0        442  Activity of human neural crest enhancer in E11...   \n",
       "1        442  Developing 3D Craniofacial Morphometry Data an...   \n",
       "2        382  microMRI images of skulls of Ctgftm1Kml/Ctgftm...   \n",
       "\n",
       "  view_gene_summary view_related_datasets  \n",
       "0              None                  None  \n",
       "1              None                  None  \n",
       "2              None                  None  "
      ]
     },
     "execution_count": 12,
     "metadata": {},
     "output_type": "execute_result"
    }
   ],
   "source": [
    "entityset_limit3.dataframe"
   ]
  },
  {
   "cell_type": "markdown",
   "metadata": {
    "collapsed": true
   },
   "source": [
    "## Fetch a Subset of Attributes\n",
    "It is also possible to get a subset of attributes from the server. The\n",
    "`attributes(...)` method accepts a variable argument list. Each argument\n",
    "must be a column object from the table's `columns` container which we can\n",
    "access in this case directly as a property of the table since the column\n",
    "name is a property python identifier."
   ]
  },
  {
   "cell_type": "code",
   "execution_count": 13,
   "metadata": {
    "collapsed": true
   },
   "outputs": [],
   "source": [
    "entityset_attrs = dataset.attributes(dataset.accession, dataset.title, dataset.status).entities(limit=5)"
   ]
  },
  {
   "cell_type": "markdown",
   "metadata": {},
   "source": [
    "### Convert to list\n",
    "Convert the entity set to a standard python list and dump to the console."
   ]
  },
  {
   "cell_type": "code",
   "execution_count": 14,
   "metadata": {},
   "outputs": [
    {
     "data": {
      "text/plain": [
       "[{'accession': 'FB00000827',\n",
       "  'status': 3,\n",
       "  'title': 'Activity of human neural crest enhancer in E11.5 mouse embryo - Tg(hg19_chr7:145843942-145844366::LacZ)'},\n",
       " {'accession': 'FB00000861',\n",
       "  'status': 3,\n",
       "  'title': 'Developing 3D Craniofacial Morphometry Data and Tools to Transform Dysmorphology'},\n",
       " {'accession': 'FB00000380.01',\n",
       "  'status': 2,\n",
       "  'title': 'microMRI images of skulls of Ctgftm1Kml/Ctgftm1Kml mice at E14.5 '},\n",
       " {'accession': 'FB00000393.01',\n",
       "  'status': 2,\n",
       "  'title': 'microMRI images of skulls of Tgfbr2fl/fl mice at E18.5'},\n",
       " {'accession': 'FB00000155',\n",
       "  'status': 2,\n",
       "  'title': 'Micro-CT images of adult mouse skulls, Collaborative Cross NZO x WSB'}]"
      ]
     },
     "execution_count": 14,
     "metadata": {},
     "output_type": "execute_result"
    }
   ],
   "source": [
    "list(entityset_attrs)"
   ]
  },
  {
   "cell_type": "code",
   "execution_count": null,
   "metadata": {
    "collapsed": true
   },
   "outputs": [],
   "source": []
  }
 ],
 "metadata": {
  "kernelspec": {
   "display_name": "Python 3",
   "language": "python",
   "name": "python3"
  },
  "language_info": {
   "codemirror_mode": {
    "name": "ipython",
    "version": 3
   },
   "file_extension": ".py",
   "mimetype": "text/x-python",
   "name": "python",
   "nbconvert_exporter": "python",
   "pygments_lexer": "ipython3",
   "version": "3.6.2"
  }
 },
 "nbformat": 4,
 "nbformat_minor": 2
}
