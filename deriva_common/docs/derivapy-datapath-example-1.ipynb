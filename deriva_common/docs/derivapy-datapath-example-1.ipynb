{
 "cells": [
  {
   "cell_type": "code",
   "execution_count": 1,
   "metadata": {
    "collapsed": true
   },
   "outputs": [],
   "source": [
    "# This notebook gives an example of how to access the model elements (e.g.,\n",
    "# schemas, tables, columns) that are used when building data paths."
   ]
  },
  {
   "cell_type": "code",
   "execution_count": 2,
   "metadata": {
    "collapsed": true
   },
   "outputs": [],
   "source": [
    "# Import deriva modules\n",
    "from deriva_common import ErmrestCatalog, get_credential"
   ]
  },
  {
   "cell_type": "code",
   "execution_count": 3,
   "metadata": {
    "collapsed": true
   },
   "outputs": [],
   "source": [
    "# Connect with the deriva catalog\n",
    "protocol = 'https'\n",
    "hostname = 'www.facebase.org'\n",
    "catalog_number = 1\n",
    "credential = None\n",
    "# If you need to authenticate, use Deriva Auth agent and get the credential:\n",
    "# credential = get_credential(hostname)\n",
    "catalog = ErmrestCatalog(protocol, hostname, catalog_number, credential)"
   ]
  },
  {
   "cell_type": "code",
   "execution_count": 4,
   "metadata": {
    "collapsed": true
   },
   "outputs": [],
   "source": [
    "# Get the path builder interface for this catalog\n",
    "pb = catalog.getPathBuilder()"
   ]
  },
  {
   "cell_type": "code",
   "execution_count": 5,
   "metadata": {
    "collapsed": false
   },
   "outputs": [
    {
     "data": {
      "text/plain": [
       "['load_temp', 'viz', 'legacy', 'vocabulary', 'metadata_raw', 'isa']"
      ]
     },
     "execution_count": 5,
     "metadata": {},
     "output_type": "execute_result"
    }
   ],
   "source": [
    "# The path builder gives you access to a representation of the catalog's\n",
    "# data model beginning with the catalog's schemas. The `.schemas` property\n",
    "# acts like a python dictionary or Map object. Use its `keys()` method to\n",
    "# get a listing of the schema names.\n",
    "pb.schemas.keys()"
   ]
  },
  {
   "cell_type": "code",
   "execution_count": 6,
   "metadata": {
    "collapsed": true
   },
   "outputs": [],
   "source": [
    "# Here we will get a handle to the `isa` schmea\n",
    "isa = pb.schemas['isa']\n",
    "\n",
    "# PROTIP: Jupyter Notebook supports <tab> completion. Press the <tab> key\n",
    "# after typing the brackets of a dictionary to see the keys. Typing\n",
    "# `pb.schemas[<tab>]` will give you a dropdown of schema names."
   ]
  },
  {
   "cell_type": "code",
   "execution_count": 7,
   "metadata": {
    "collapsed": true
   },
   "outputs": [],
   "source": [
    "# An alternative way to get a handle to the same schema object is \n",
    "# directly as a property of the path builder object itself. However,\n",
    "# this only works for schema names that are _valid python identifiers_.\n",
    "# A valid python identifier may start with `_` or a letter as its first\n",
    "# character and have `_`, letters, or numbers for the rest of its\n",
    "# characdters.\n",
    "#  * Valid: `dataset` `assay` `Molecule_Type` etc.\n",
    "#  * Not Valid: `Sample 1 Type` `Control?` `# of reads` etc.\n",
    "\n",
    "# **IMPORTANT**\n",
    "# Similar access methods will be demonstrated for tables and columns \n",
    "# below. Since not all catalog model names are valid python identifiers\n",
    "# when you use this method, you may not see your catalog's complete\n",
    "# data model. However, the notation is more compact and ideal for\n",
    "# cases where your model uses (all or mostly) valid python identifiers\n",
    "# in its model element names.\n",
    "\n",
    "isa = pb.isa"
   ]
  },
  {
   "cell_type": "code",
   "execution_count": 8,
   "metadata": {
    "collapsed": false,
    "scrolled": true
   },
   "outputs": [
    {
     "data": {
      "text/plain": [
       "['dataset_mouse_genetic_background',\n",
       " 'dataset_human_age',\n",
       " 'dataset_mouse_theiler_stage',\n",
       " 'dataset_investigators',\n",
       " 'dataset_human_anatomic_source',\n",
       " 'imaging_method',\n",
       " 'project_publication',\n",
       " 'icon',\n",
       " 'dataset_mouse_age_stage',\n",
       " 'dataset_experiment_type',\n",
       " 'experiment_type',\n",
       " 'sample',\n",
       " 'human_gender',\n",
       " 'zebrafish_mutation',\n",
       " 'mouse_enhancer',\n",
       " 'dataset_status',\n",
       " 'alignment',\n",
       " 'specimen',\n",
       " 'library',\n",
       " 'file',\n",
       " 'publication',\n",
       " 'human_age',\n",
       " 'instrument',\n",
       " 'assay',\n",
       " 'dataset_human_gender',\n",
       " 'zebrafish_age_stage',\n",
       " 'dataset_zebrafish_anatomic_source',\n",
       " 'project',\n",
       " 'track_file',\n",
       " 'dataset_mouse_gene',\n",
       " 'clinical_assay',\n",
       " 'dataset_organism',\n",
       " 'external_reference',\n",
       " 'mouse_gene',\n",
       " 'dataset_data_type',\n",
       " 'file_compact',\n",
       " 'organism',\n",
       " 'human_enhancer',\n",
       " 'dataset_zebrafish_genotype',\n",
       " 'human_age_stage',\n",
       " 'tracks',\n",
       " 'dataset_geo',\n",
       " 'assay_file',\n",
       " 'mouse_genetic_background',\n",
       " 'data_type',\n",
       " 'dataset_zebrafish_mutation',\n",
       " 'thumbnail',\n",
       " 'mouse_anatomic_source',\n",
       " 'mouse_theiler_stage',\n",
       " 'zebrafish_anatomic_source',\n",
       " 'dataset_summary',\n",
       " 'dataset_mouse_enhancer',\n",
       " 'human_anatomic_source',\n",
       " 'dataset_somite_count',\n",
       " 'dataset_mouse_anatomic_source',\n",
       " 'dataset_zebrafish_age_stage',\n",
       " 'imaging',\n",
       " 'mouse_mutation',\n",
       " 'dataset_instrument',\n",
       " 'dataset_human_enhancer',\n",
       " 'person',\n",
       " 'jax_strain',\n",
       " 'zebrafish_genotype',\n",
       " 'dataset_phenotype',\n",
       " 'dataset_human_age_stage',\n",
       " 'dataset',\n",
       " 'dataset_chromosome',\n",
       " 'project_investigator',\n",
       " 'image_staining',\n",
       " 'mouse_genotype',\n",
       " 'enhancer',\n",
       " 'dataset_mouse_mutation',\n",
       " 'project_member',\n",
       " 'mouse_age_stage',\n",
       " 'dataset_mouse_genotype']"
      ]
     },
     "execution_count": 8,
     "metadata": {},
     "output_type": "execute_result"
    }
   ],
   "source": [
    "# Similarly, a schema object has a `tables` property that gives you access\n",
    "# to a representation of the catalog schema's tables. Again, use its `keys()`\n",
    "# method to list the table names in the schema.\n",
    "isa.tables.keys()"
   ]
  },
  {
   "cell_type": "code",
   "execution_count": 9,
   "metadata": {
    "collapsed": true
   },
   "outputs": [],
   "source": [
    "# Similarly we can get a table from the schema's `tables` property in\n",
    "# both of the demonstrated methods.\n",
    "dataset = isa.tables['dataset']\n",
    "# or\n",
    "dataset = isa.dataset"
   ]
  },
  {
   "cell_type": "code",
   "execution_count": 10,
   "metadata": {
    "collapsed": false
   },
   "outputs": [
    {
     "data": {
      "text/plain": [
       "dict_keys(['id', 'accession', 'title', 'project', 'funding', 'summary', 'description', 'view_gene_summary', 'view_related_datasets', 'mouse_genetic', 'human_anatomic', 'study_design', 'release_date', 'status', 'gene_summary', 'thumbnail', 'show_in_jbrowse', '_keywords'])"
      ]
     },
     "execution_count": 10,
     "metadata": {},
     "output_type": "execute_result"
    }
   ],
   "source": [
    "# A table has a `columns` dictionary. We can get the column names as usual.\n",
    "dataset.columns.keys()"
   ]
  },
  {
   "cell_type": "code",
   "execution_count": 11,
   "metadata": {
    "collapsed": true
   },
   "outputs": [],
   "source": [
    "# Again, we have the following methods to get handles to the table's\n",
    "# column objects.\n",
    "accession = dataset.columns['accession']\n",
    "# or\n",
    "accession = dataset.accession"
   ]
  },
  {
   "cell_type": "code",
   "execution_count": 12,
   "metadata": {
    "collapsed": true
   },
   "outputs": [],
   "source": [
    "# FINAL THOUGHT: The model introspection provided in the datapath\n",
    "# module (i.e., the PathBuilder) is intended for the narrowly scoped\n",
    "# usage required for building paths and accessing data from ERMrest\n",
    "# catalogs. It is _not_ intended for general introspection of catalogs\n",
    "# and therefore _does not_ include details such as constraints, \n",
    "# annotations, ACLs, column data types, etc."
   ]
  }
 ],
 "metadata": {
  "kernelspec": {
   "display_name": "Python 3",
   "language": "python",
   "name": "python3"
  },
  "language_info": {
   "codemirror_mode": {
    "name": "ipython",
    "version": 3
   },
   "file_extension": ".py",
   "mimetype": "text/x-python",
   "name": "python",
   "nbconvert_exporter": "python",
   "pygments_lexer": "ipython3",
   "version": "3.6.0"
  }
 },
 "nbformat": 4,
 "nbformat_minor": 2
}
