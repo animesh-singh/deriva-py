{
 "cells": [
  {
   "cell_type": "markdown",
   "metadata": {
    "collapsed": true
   },
   "source": [
    "# Datapath Example 1\n",
    "This notebook gives an example of how to access the model elements (e.g.,\n",
    "schemas, tables, columns) that are used when building data paths."
   ]
  },
  {
   "cell_type": "code",
   "execution_count": 1,
   "metadata": {
    "collapsed": true
   },
   "outputs": [],
   "source": [
    "# Import deriva modules\n",
    "from deriva_common import ErmrestCatalog, get_credential"
   ]
  },
  {
   "cell_type": "code",
   "execution_count": 2,
   "metadata": {
    "collapsed": true
   },
   "outputs": [],
   "source": [
    "# Connect with the deriva catalog\n",
    "protocol = 'https'\n",
    "hostname = 'www.facebase.org'\n",
    "catalog_number = 1\n",
    "credential = None\n",
    "# If you need to authenticate, use Deriva Auth agent and get the credential:\n",
    "# credential = get_credential(hostname)\n",
    "catalog = ErmrestCatalog(protocol, hostname, catalog_number, credential)"
   ]
  },
  {
   "cell_type": "markdown",
   "metadata": {},
   "source": [
    "## The PathBuilder Interface\n",
    "The path builder interface gives you access to a representation of the catalog's data model beginning with the catalog's schemas."
   ]
  },
  {
   "cell_type": "code",
   "execution_count": 3,
   "metadata": {
    "collapsed": true
   },
   "outputs": [],
   "source": [
    "# Get the path builder interface for this catalog\n",
    "pb = catalog.getPathBuilder()"
   ]
  },
  {
   "cell_type": "markdown",
   "metadata": {},
   "source": [
    "## Access to Schemas\n",
    "The `.schemas` property acts like a python dictionary or Map object. Use its `keys()` method to\n",
    "get a listing of the schema names."
   ]
  },
  {
   "cell_type": "code",
   "execution_count": 4,
   "metadata": {},
   "outputs": [
    {
     "data": {
      "text/plain": [
       "['isa', 'viz', 'load_temp', 'metadata_raw', 'legacy', 'vocabulary']"
      ]
     },
     "execution_count": 4,
     "metadata": {},
     "output_type": "execute_result"
    }
   ],
   "source": [
    "pb.schemas.keys()"
   ]
  },
  {
   "cell_type": "markdown",
   "metadata": {
    "collapsed": true
   },
   "source": [
    "Here we will get a handle to the `isa` schmea."
   ]
  },
  {
   "cell_type": "code",
   "execution_count": 5,
   "metadata": {
    "collapsed": true
   },
   "outputs": [],
   "source": [
    "isa = pb.schemas['isa']"
   ]
  },
  {
   "cell_type": "markdown",
   "metadata": {},
   "source": [
    "**PROTIP**: Jupyter Notebook supports `<tab>` completion. Press the `<tab>` key\n",
    "after typing the brackets of a dictionary to see the keys. Typing\n",
    "`pb.schemas[<tab>]` will give you a dropdown of schema names."
   ]
  },
  {
   "cell_type": "markdown",
   "metadata": {},
   "source": [
    "### Alternative access method for schemas and other model objects\n",
    "\n",
    "An alternative way to get a handle to the same schema object is \n",
    "directly as a property of the path builder object itself. However,\n",
    "this only works for schema names that are _valid python identifiers_.\n",
    "\n",
    "A valid python identifier may start with '`_`' or a letter as its first\n",
    "character and have '`_`', letters, or numbers for the rest of its characters.\n",
    "- **Valid Python identifiers**: `'dataset'`, `'assay'`, `'Molecule_Type'`, etc.\n",
    "- **Invalid Python identifiers**: `'Sample 1 Type'`, `'Control?'`, `'# of reads'`, etc.\n",
    "\n",
    "**IMPORTANT**\n",
    "Similar access methods will be demonstrated for tables and columns \n",
    "below. Since not all catalog model names are valid python identifiers\n",
    "when you use this method, you may not see your catalog's complete\n",
    "data model. However, the notation is more compact and ideal for\n",
    "cases where your model uses (all or mostly) valid python identifiers\n",
    "in its model element names."
   ]
  },
  {
   "cell_type": "code",
   "execution_count": 6,
   "metadata": {
    "collapsed": true
   },
   "outputs": [],
   "source": [
    "isa = pb.isa"
   ]
  },
  {
   "cell_type": "markdown",
   "metadata": {},
   "source": [
    "## Access to Tables\n",
    "Similarly, a schema object has a `tables` property that gives you access\n",
    "to a representation of the catalog schema's tables. Again, use its `keys()`\n",
    "method to list the table names in the schema."
   ]
  },
  {
   "cell_type": "code",
   "execution_count": 7,
   "metadata": {},
   "outputs": [
    {
     "data": {
      "text/plain": [
       "['mouse_genotype',\n",
       " 'dataset_status',\n",
       " 'dataset_mouse_mutation',\n",
       " 'dataset_human_age_stage',\n",
       " 'dataset_mouse_age_stage',\n",
       " 'imaging',\n",
       " 'human_gender',\n",
       " 'project_publication',\n",
       " 'dataset_zebrafish_mutation',\n",
       " 'zebrafish_mutation',\n",
       " 'file_compact',\n",
       " 'track_file',\n",
       " 'dataset_mouse_genetic_background',\n",
       " 'dataset_zebrafish_anatomic_source',\n",
       " 'dataset',\n",
       " 'dataset_chromosome',\n",
       " 'mouse_enhancer',\n",
       " 'dataset_zebrafish_age_stage',\n",
       " 'dataset_human_anatomic_source',\n",
       " 'dataset_mouse_enhancer',\n",
       " 'data_type',\n",
       " 'human_age_stage',\n",
       " 'mouse_anatomic_source',\n",
       " 'project_investigator',\n",
       " 'icon',\n",
       " 'dataset_human_age',\n",
       " 'tracks',\n",
       " 'mouse_theiler_stage',\n",
       " 'human_anatomic_source',\n",
       " 'mouse_age_stage',\n",
       " 'specimen',\n",
       " 'dataset_instrument',\n",
       " 'alignment',\n",
       " 'dataset_mouse_gene',\n",
       " 'zebrafish_age_stage',\n",
       " 'dataset_somite_count',\n",
       " 'dataset_human_enhancer',\n",
       " 'mouse_genetic_background',\n",
       " 'dataset_geo',\n",
       " 'project',\n",
       " 'assay_file',\n",
       " 'dataset_zebrafish_genotype',\n",
       " 'dataset_experiment_type',\n",
       " 'person',\n",
       " 'thumbnail',\n",
       " 'dataset_investigators',\n",
       " 'zebrafish_anatomic_source',\n",
       " 'dataset_summary',\n",
       " 'image_staining',\n",
       " 'file',\n",
       " 'library',\n",
       " 'mouse_gene',\n",
       " 'publication',\n",
       " 'dataset_mouse_theiler_stage',\n",
       " 'imaging_method',\n",
       " 'external_reference',\n",
       " 'assay',\n",
       " 'experiment_type',\n",
       " 'enhancer',\n",
       " 'project_member',\n",
       " 'sample',\n",
       " 'clinical_assay',\n",
       " 'instrument',\n",
       " 'zebrafish_genotype',\n",
       " 'dataset_mouse_anatomic_source',\n",
       " 'dataset_organism',\n",
       " 'mouse_mutation',\n",
       " 'human_age',\n",
       " 'organism',\n",
       " 'dataset_phenotype',\n",
       " 'dataset_mouse_genotype',\n",
       " 'dataset_data_type',\n",
       " 'jax_strain',\n",
       " 'human_enhancer',\n",
       " 'dataset_human_gender']"
      ]
     },
     "execution_count": 7,
     "metadata": {},
     "output_type": "execute_result"
    }
   ],
   "source": [
    "isa.tables.keys()"
   ]
  },
  {
   "cell_type": "markdown",
   "metadata": {
    "collapsed": true
   },
   "source": [
    "Similarly we can get a table from the schema's `tables` property in\n",
    "both of the demonstrated methods."
   ]
  },
  {
   "cell_type": "code",
   "execution_count": 8,
   "metadata": {
    "collapsed": true
   },
   "outputs": [],
   "source": [
    "dataset = isa.tables['dataset']\n",
    "# or\n",
    "dataset = isa.dataset"
   ]
  },
  {
   "cell_type": "markdown",
   "metadata": {},
   "source": [
    "## Access to Columns\n",
    "A table has a `columns` dictionary. We can get the column names as usual."
   ]
  },
  {
   "cell_type": "code",
   "execution_count": 9,
   "metadata": {},
   "outputs": [
    {
     "data": {
      "text/plain": [
       "dict_keys(['id', 'accession', 'title', 'project', 'funding', 'summary', 'description', 'view_gene_summary', 'view_related_datasets', 'mouse_genetic', 'human_anatomic', 'study_design', 'release_date', 'status', 'gene_summary', 'thumbnail', 'show_in_jbrowse', '_keywords'])"
      ]
     },
     "execution_count": 9,
     "metadata": {},
     "output_type": "execute_result"
    }
   ],
   "source": [
    "dataset.columns.keys()"
   ]
  },
  {
   "cell_type": "markdown",
   "metadata": {
    "collapsed": true
   },
   "source": [
    "Again, we have the following methods to get handles to the table's\n",
    "column objects."
   ]
  },
  {
   "cell_type": "code",
   "execution_count": 10,
   "metadata": {
    "collapsed": true
   },
   "outputs": [],
   "source": [
    "accession = dataset.columns['accession']\n",
    "# or\n",
    "accession = dataset.accession"
   ]
  },
  {
   "cell_type": "markdown",
   "metadata": {
    "collapsed": true
   },
   "source": [
    "## Final Thought\n",
    "\n",
    "The model introspection provided in the datapath\n",
    "module (i.e., the PathBuilder) is intended for the narrowly scoped\n",
    "usage required for building paths and accessing data from ERMrest\n",
    "catalogs. It is _not_ intended for general introspection of catalogs\n",
    "and therefore _does not_ include details such as constraints, \n",
    "annotations, ACLs, column data types, etc."
   ]
  },
  {
   "cell_type": "code",
   "execution_count": null,
   "metadata": {
    "collapsed": true
   },
   "outputs": [],
   "source": []
  }
 ],
 "metadata": {
  "kernelspec": {
   "display_name": "Python 3",
   "language": "python",
   "name": "python3"
  },
  "language_info": {
   "codemirror_mode": {
    "name": "ipython",
    "version": 3
   },
   "file_extension": ".py",
   "mimetype": "text/x-python",
   "name": "python",
   "nbconvert_exporter": "python",
   "pygments_lexer": "ipython3",
   "version": "3.6.2"
  }
 },
 "nbformat": 4,
 "nbformat_minor": 2
}
