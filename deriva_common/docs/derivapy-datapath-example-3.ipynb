{
 "cells": [
  {
   "cell_type": "markdown",
   "metadata": {
    "collapsed": true
   },
   "source": [
    "# Datapath example 3\n",
    "\n",
    "This notebook gives an example of how to build relativley simple data paths.\n",
    "It assumes that you understand the concepts presented in the example 2\n",
    "notebook.\n",
    "\n",
    "## Exampe Data Model\n",
    "The examples require that you understand a little bit about the example\n",
    "catalog data model, which is based on the FaceBase project.\n",
    "\n",
    "### Key tables\n",
    "- `'dataset'` : represents a unit of data usually a `'study'` or `'experiment'`\n",
    "- `'sample'` : a biosample\n",
    "- `'assay'` : a bioassay (typically RNA-seq or ChIP-seq assays)\n",
    "\n",
    "### Relationships\n",
    "- `dataset <- sample`: A dataset may have one to many samples. I.e., there \n",
    "  is a foreign key reference from sample to dataset.\n",
    "- `sample <- assay`: A sample may have one to many assays. I.e., there is a\n",
    "  foreign key reference from assay to sample."
   ]
  },
  {
   "cell_type": "code",
   "execution_count": null,
   "metadata": {
    "collapsed": true
   },
   "outputs": [],
   "source": [
    "# Import deriva modules\n",
    "from deriva_common import ErmrestCatalog, get_credential"
   ]
  },
  {
   "cell_type": "code",
   "execution_count": null,
   "metadata": {
    "collapsed": true
   },
   "outputs": [],
   "source": [
    "# Connect with the deriva catalog\n",
    "protocol = 'https'\n",
    "hostname = 'www.facebase.org'\n",
    "catalog_number = 1\n",
    "credential = None\n",
    "# If you need to authenticate, use Deriva Auth agent and get the credential\n",
    "# credential = get_credential(hostname)\n",
    "catalog = ErmrestCatalog(protocol, hostname, catalog_number, credential)"
   ]
  },
  {
   "cell_type": "code",
   "execution_count": null,
   "metadata": {
    "collapsed": true
   },
   "outputs": [],
   "source": [
    "# Get the path builder interface for this catalog\n",
    "pb = catalog.getPathBuilder()"
   ]
  },
  {
   "cell_type": "markdown",
   "metadata": {},
   "source": [
    "## Building a Datapath\n",
    "We will build a data path by linking tables from the catalog. To make things a little easier we will use python variables to reference the tables. This is not necessary, but simplifies the examples."
   ]
  },
  {
   "cell_type": "code",
   "execution_count": null,
   "metadata": {
    "collapsed": true
   },
   "outputs": [],
   "source": [
    "dataset = pb.isa.dataset\n",
    "sample = pb.isa.sample\n",
    "assay = pb.isa.assay"
   ]
  },
  {
   "cell_type": "markdown",
   "metadata": {},
   "source": [
    "Build a data path by linking together different tables that are related.\n",
    "By default, data path returns entities for the _last_ linked entity set\n",
    "in the path. The following data path will therefore return assays not\n",
    "datasets."
   ]
  },
  {
   "cell_type": "code",
   "execution_count": null,
   "metadata": {},
   "outputs": [],
   "source": [
    "path = dataset.path            # a new path rooted at the \"dataset\" table\n",
    "path.link(sample).link(assay)  # extended path dataset<-sample<-assay\n",
    "print(path.uri)                # URI for this path"
   ]
  },
  {
   "cell_type": "markdown",
   "metadata": {
    "collapsed": true
   },
   "source": [
    "Get the entity set for this linked data path."
   ]
  },
  {
   "cell_type": "code",
   "execution_count": null,
   "metadata": {},
   "outputs": [],
   "source": [
    "entities = path.entities()\n",
    "len(entities)"
   ]
  },
  {
   "cell_type": "markdown",
   "metadata": {},
   "source": [
    "## Filtering a Datapath\n",
    "\n",
    "Building off of the path, a filter can be added. In this filter, the assay's\n",
    "attriburtes may be reference in the expressions. We did not have to split this\n",
    "step from the prior step.\n",
    "\n",
    "**Note**:\n",
    "In these binary comparisons \n",
    "the left operand must be an attribute while the right operand must a literal\n",
    "value."
   ]
  },
  {
   "cell_type": "code",
   "execution_count": null,
   "metadata": {},
   "outputs": [],
   "source": [
    "path.filter(assay.molecule_type == 'mRNA')\n",
    "print(path.uri)"
   ]
  },
  {
   "cell_type": "code",
   "execution_count": null,
   "metadata": {},
   "outputs": [],
   "source": [
    "entities = assays_datapath_filtered.entities()\n",
    "len(entities)"
   ]
  },
  {
   "cell_type": "markdown",
   "metadata": {},
   "source": [
    "## Slicing EntitySets\n",
    "Any entity set can be sliced too."
   ]
  },
  {
   "cell_type": "code",
   "execution_count": null,
   "metadata": {},
   "outputs": [],
   "source": [
    "print (entities[2:4])"
   ]
  },
  {
   "cell_type": "markdown",
   "metadata": {},
   "source": [
    "Let's see it rendered as a Pandas DataFrame."
   ]
  },
  {
   "cell_type": "code",
   "execution_count": null,
   "metadata": {},
   "outputs": [],
   "source": [
    "entities.dataframe"
   ]
  },
  {
   "cell_type": "markdown",
   "metadata": {},
   "source": [
    "# Table Instances\n",
    "A \"table instance\" is a key concept when working with DataPaths. A table _instance_ is a table that is in use _within the context_ of a DataPath. Such a table _instance_ should not be confused with the _base_ table. A table _instance_ may be constrained by the _linking_ relationships expressed in the DataPath and the _filters_ on its attributes."
   ]
  },
  {
   "cell_type": "markdown",
   "metadata": {
    "collapsed": true
   },
   "source": [
    "## Projecting Attributes From Linked Entities\n",
    "\n",
    "Returning to the initial example, if we want to project additional attributes\n",
    "from other entities in the DataPath, we need to be able to reference the\n",
    "\"table instances\" at any point in the path. \n",
    "\n",
    "**Table Instance**: A \"table instance\" is a Table within the context of a DataPath.\n",
    "\n",
    "To do so, first\n",
    "we need to define a few table \"aliases\" that we can use in the paths.\n",
    "\n",
    "### Define a table alias\n",
    "Start by defining an alias for the 'dataset' table. Any table can be aliased.\n",
    "The argument to the '`as_(...)`' method is a string without special characters\n",
    "in it."
   ]
  },
  {
   "cell_type": "code",
   "execution_count": null,
   "metadata": {
    "collapsed": true
   },
   "outputs": [],
   "source": [
    "D = dataset.as_('D')"
   ]
  },
  {
   "cell_type": "markdown",
   "metadata": {},
   "source": [
    "### Access columns of an aliased table\n",
    "Like the original table, an alias may be used to reference the columns of the\n",
    "original table."
   ]
  },
  {
   "cell_type": "code",
   "execution_count": null,
   "metadata": {},
   "outputs": [],
   "source": [
    "D.columns['accession']"
   ]
  },
  {
   "cell_type": "markdown",
   "metadata": {},
   "source": [
    "Now repeat the path but use the aliased table in place of the table."
   ]
  },
  {
   "cell_type": "code",
   "execution_count": null,
   "metadata": {
    "collapsed": true
   },
   "outputs": [],
   "source": [
    "datapath = D.link(sample).link(assay)"
   ]
  },
  {
   "cell_type": "markdown",
   "metadata": {},
   "source": [
    "Project attributes from the last referenced table and any aliased tables."
   ]
  },
  {
   "cell_type": "code",
   "execution_count": null,
   "metadata": {},
   "outputs": [],
   "source": [
    "datapath = datapath.attributes(D.accession, assay.molecule_type, assay.sample_type)\n",
    "print(datapath.uri)"
   ]
  },
  {
   "cell_type": "code",
   "execution_count": null,
   "metadata": {},
   "outputs": [],
   "source": [
    "entities = datapath.entities()\n",
    "for e in entities[0:10]:\n",
    "    print(e)"
   ]
  },
  {
   "cell_type": "markdown",
   "metadata": {
    "collapsed": true
   },
   "source": [
    "### Alias a table anywhere in the data path\n",
    "Now define another alias so that sample's columns may be projected as well."
   ]
  },
  {
   "cell_type": "code",
   "execution_count": null,
   "metadata": {
    "collapsed": true
   },
   "outputs": [],
   "source": [
    "S = sample.as_('S')"
   ]
  },
  {
   "cell_type": "markdown",
   "metadata": {},
   "source": [
    "This is an all new datapath instance. When linking the samples table we will\n",
    "need to first indicate which table is being linked, and then what alias to\n",
    "link it \"as\". This is similar in spirit to the SQL concept of joining tables\n",
    "and renaming them \"as\" a given table instance name."
   ]
  },
  {
   "cell_type": "code",
   "execution_count": null,
   "metadata": {},
   "outputs": [],
   "source": [
    "datapath = D.link(sample, as_=S).link(assay).attributes(D.accession, S.stage, assay.sample_type)\n",
    "print(datapath.uri)"
   ]
  },
  {
   "cell_type": "code",
   "execution_count": null,
   "metadata": {},
   "outputs": [],
   "source": [
    "for e in datapath.entities(limit=5):\n",
    "    print(e)"
   ]
  },
  {
   "cell_type": "code",
   "execution_count": null,
   "metadata": {
    "collapsed": true
   },
   "outputs": [],
   "source": []
  }
 ],
 "metadata": {
  "kernelspec": {
   "display_name": "Python 3",
   "language": "python",
   "name": "python3"
  },
  "language_info": {
   "codemirror_mode": {
    "name": "ipython",
    "version": 3
   },
   "file_extension": ".py",
   "mimetype": "text/x-python",
   "name": "python",
   "nbconvert_exporter": "python",
   "pygments_lexer": "ipython3",
   "version": "3.6.2"
  }
 },
 "nbformat": 4,
 "nbformat_minor": 2
}
