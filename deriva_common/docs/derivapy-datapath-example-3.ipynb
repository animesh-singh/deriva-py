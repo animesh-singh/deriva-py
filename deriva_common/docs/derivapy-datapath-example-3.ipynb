{
 "cells": [
  {
   "cell_type": "markdown",
   "metadata": {
    "collapsed": true
   },
   "source": [
    "# Datapath Example 3\n",
    "\n",
    "This notebook gives an example of how to build relatively simple data paths.\n",
    "It assumes that you understand the concepts presented in the example 2\n",
    "notebook.\n",
    "\n",
    "## Exampe Data Model\n",
    "The examples require that you understand a little bit about the example\n",
    "catalog data model, which is based on the FaceBase project.\n",
    "\n",
    "### Key tables\n",
    "- `'dataset'` : represents a unit of data usually a `'study'` or `'experiment'`\n",
    "- `'sample'` : a biosample\n",
    "- `'assay'` : a bioassay (typically RNA-seq or ChIP-seq assays)\n",
    "\n",
    "### Relationships\n",
    "- `dataset <- sample`: A dataset may have one to many samples. I.e., there \n",
    "  is a foreign key reference from sample to dataset.\n",
    "- `sample <- assay`: A sample may have one to many assays. I.e., there is a\n",
    "  foreign key reference from assay to sample."
   ]
  },
  {
   "cell_type": "code",
   "execution_count": 1,
   "metadata": {},
   "outputs": [],
   "source": [
    "# Import deriva modules\n",
    "from deriva_common import ErmrestCatalog, get_credential"
   ]
  },
  {
   "cell_type": "code",
   "execution_count": 2,
   "metadata": {
    "collapsed": true
   },
   "outputs": [],
   "source": [
    "# Connect with the deriva catalog\n",
    "protocol = 'https'\n",
    "hostname = 'www.facebase.org'\n",
    "catalog_number = 1\n",
    "credential = None\n",
    "# If you need to authenticate, use Deriva Auth agent and get the credential\n",
    "# credential = get_credential(hostname)\n",
    "catalog = ErmrestCatalog(protocol, hostname, catalog_number, credential)"
   ]
  },
  {
   "cell_type": "code",
   "execution_count": 3,
   "metadata": {
    "collapsed": true
   },
   "outputs": [],
   "source": [
    "# Get the path builder interface for this catalog\n",
    "pb = catalog.getPathBuilder()"
   ]
  },
  {
   "cell_type": "markdown",
   "metadata": {},
   "source": [
    "## Building a Datapath\n",
    "We will build a data path by linking tables from the catalog. To make things a little easier we will use python variables to reference the tables. This is not necessary, but simplifies the examples."
   ]
  },
  {
   "cell_type": "code",
   "execution_count": 4,
   "metadata": {
    "collapsed": true
   },
   "outputs": [],
   "source": [
    "dataset = pb.isa.dataset\n",
    "sample = pb.isa.sample\n",
    "assay = pb.isa.assay"
   ]
  },
  {
   "cell_type": "markdown",
   "metadata": {},
   "source": [
    "Build a data path by linking together different tables that are related.\n",
    "By default, data path returns entities for the _last_ linked entity set\n",
    "in the path. The following data path will therefore return assays not\n",
    "datasets."
   ]
  },
  {
   "cell_type": "code",
   "execution_count": 5,
   "metadata": {},
   "outputs": [
    {
     "name": "stdout",
     "output_type": "stream",
     "text": [
      "https://www.facebase.org/ermrest/catalog/1/entity/dataset:=isa:dataset/sample:=isa:sample/assay:=isa:assay\n"
     ]
    }
   ],
   "source": [
    "path = dataset.path            # a new path rooted at the \"dataset\" table\n",
    "path.link(sample).link(assay)  # extended path dataset<-sample<-assay\n",
    "print(path.uri)                # URI for this path"
   ]
  },
  {
   "cell_type": "markdown",
   "metadata": {
    "collapsed": true
   },
   "source": [
    "Get the entity set for this linked data path."
   ]
  },
  {
   "cell_type": "code",
   "execution_count": 6,
   "metadata": {},
   "outputs": [
    {
     "data": {
      "text/plain": [
       "171"
      ]
     },
     "execution_count": 6,
     "metadata": {},
     "output_type": "execute_result"
    }
   ],
   "source": [
    "entities = path.entities()\n",
    "len(entities)"
   ]
  },
  {
   "cell_type": "markdown",
   "metadata": {},
   "source": [
    "## Filtering a Datapath\n",
    "\n",
    "Building off of the path, a filter can be added. In this filter, the assay's\n",
    "attriburtes may be reference in the expressions. We did not have to split this\n",
    "step from the prior step.\n",
    "\n",
    "**Note**:\n",
    "In these binary comparisons \n",
    "the left operand must be an attribute while the right operand must a literal\n",
    "value."
   ]
  },
  {
   "cell_type": "code",
   "execution_count": 7,
   "metadata": {},
   "outputs": [
    {
     "name": "stdout",
     "output_type": "stream",
     "text": [
      "https://www.facebase.org/ermrest/catalog/1/entity/dataset:=isa:dataset/sample:=isa:sample/assay:=isa:assay/molecule_type=mRNA\n"
     ]
    }
   ],
   "source": [
    "path.filter(assay.molecule_type == 'mRNA')\n",
    "print(path.uri)"
   ]
  },
  {
   "cell_type": "code",
   "execution_count": 8,
   "metadata": {},
   "outputs": [
    {
     "data": {
      "text/plain": [
       "6"
      ]
     },
     "execution_count": 8,
     "metadata": {},
     "output_type": "execute_result"
    }
   ],
   "source": [
    "entities = path.entities()\n",
    "len(entities)"
   ]
  },
  {
   "cell_type": "markdown",
   "metadata": {},
   "source": [
    "## Slicing EntitySets\n",
    "Any entity set can be sliced too."
   ]
  },
  {
   "cell_type": "code",
   "execution_count": 9,
   "metadata": {},
   "outputs": [
    {
     "name": "stdout",
     "output_type": "stream",
     "text": [
      "[{'id': 15, 'dataset': 14068, 'sample': 2, 'replicate': '5', 'sample_composition': 'maxillary process', 'sample_type': 'RNA-seq', 'molecule_type': 'mRNA', 'sample_purification': 'excision', 'markers': 'histology', 'isolation_protocol': '', 'cell_count': 'NA', 'protocol': '', 'pretreatment': 'Trizol', 'fragmentation_method': 'Fragmentation Buffer from Illumina', 'reagent': 'TruSeq stranded total RNA kit', 'reagent_source': 'Illumina', 'reagent_catalog_number': '15032619.0', 'reagent_batch_number': '', 'selection': 'totalRNA', 'library_id': 75, 'alignment_id': 55, 'tracks_id': 35}, {'id': 20, 'dataset': 14068, 'sample': 4, 'replicate': '5', 'sample_composition': 'mandibular process', 'sample_type': 'RNA-seq', 'molecule_type': 'mRNA', 'sample_purification': 'excision', 'markers': 'histology', 'isolation_protocol': '', 'cell_count': 'NA', 'protocol': '', 'pretreatment': 'Trizol', 'fragmentation_method': 'Fragmentation Buffer from Illumina', 'reagent': 'TruSeq stranded total RNA kit', 'reagent_source': 'Illumina', 'reagent_catalog_number': '15032619.0', 'reagent_batch_number': '', 'selection': 'totalRNA', 'library_id': 80, 'alignment_id': 60, 'tracks_id': 40}]\n"
     ]
    }
   ],
   "source": [
    "print(entities[2:4])"
   ]
  },
  {
   "cell_type": "markdown",
   "metadata": {},
   "source": [
    "Let's see it rendered as a Pandas DataFrame."
   ]
  },
  {
   "cell_type": "code",
   "execution_count": 10,
   "metadata": {},
   "outputs": [
    {
     "data": {
      "text/html": [
       "<div>\n",
       "<style>\n",
       "    .dataframe thead tr:only-child th {\n",
       "        text-align: right;\n",
       "    }\n",
       "\n",
       "    .dataframe thead th {\n",
       "        text-align: left;\n",
       "    }\n",
       "\n",
       "    .dataframe tbody tr th {\n",
       "        vertical-align: top;\n",
       "    }\n",
       "</style>\n",
       "<table border=\"1\" class=\"dataframe\">\n",
       "  <thead>\n",
       "    <tr style=\"text-align: right;\">\n",
       "      <th></th>\n",
       "      <th>alignment_id</th>\n",
       "      <th>cell_count</th>\n",
       "      <th>dataset</th>\n",
       "      <th>fragmentation_method</th>\n",
       "      <th>id</th>\n",
       "      <th>isolation_protocol</th>\n",
       "      <th>library_id</th>\n",
       "      <th>markers</th>\n",
       "      <th>molecule_type</th>\n",
       "      <th>pretreatment</th>\n",
       "      <th>...</th>\n",
       "      <th>reagent_batch_number</th>\n",
       "      <th>reagent_catalog_number</th>\n",
       "      <th>reagent_source</th>\n",
       "      <th>replicate</th>\n",
       "      <th>sample</th>\n",
       "      <th>sample_composition</th>\n",
       "      <th>sample_purification</th>\n",
       "      <th>sample_type</th>\n",
       "      <th>selection</th>\n",
       "      <th>tracks_id</th>\n",
       "    </tr>\n",
       "  </thead>\n",
       "  <tbody>\n",
       "    <tr>\n",
       "      <th>0</th>\n",
       "      <td>41</td>\n",
       "      <td>NA</td>\n",
       "      <td>14068</td>\n",
       "      <td>Fragmentation Buffer from Illumina</td>\n",
       "      <td>1</td>\n",
       "      <td></td>\n",
       "      <td>61</td>\n",
       "      <td>histology</td>\n",
       "      <td>mRNA</td>\n",
       "      <td>Trizol</td>\n",
       "      <td>...</td>\n",
       "      <td></td>\n",
       "      <td>15032619.0</td>\n",
       "      <td>Illumina</td>\n",
       "      <td>5</td>\n",
       "      <td>1</td>\n",
       "      <td>medial nasal process</td>\n",
       "      <td>excision</td>\n",
       "      <td>RNA-seq</td>\n",
       "      <td>totalRNA</td>\n",
       "      <td>21</td>\n",
       "    </tr>\n",
       "    <tr>\n",
       "      <th>1</th>\n",
       "      <td>46</td>\n",
       "      <td>NA</td>\n",
       "      <td>14068</td>\n",
       "      <td>Fragmentation Buffer from Illumina</td>\n",
       "      <td>6</td>\n",
       "      <td></td>\n",
       "      <td>66</td>\n",
       "      <td>histology</td>\n",
       "      <td>mRNA</td>\n",
       "      <td>Trizol</td>\n",
       "      <td>...</td>\n",
       "      <td></td>\n",
       "      <td>15032619.0</td>\n",
       "      <td>Illumina</td>\n",
       "      <td>5</td>\n",
       "      <td>3</td>\n",
       "      <td>latero nasal process</td>\n",
       "      <td>excision</td>\n",
       "      <td>RNA-seq</td>\n",
       "      <td>totalRNA</td>\n",
       "      <td>26</td>\n",
       "    </tr>\n",
       "    <tr>\n",
       "      <th>2</th>\n",
       "      <td>55</td>\n",
       "      <td>NA</td>\n",
       "      <td>14068</td>\n",
       "      <td>Fragmentation Buffer from Illumina</td>\n",
       "      <td>15</td>\n",
       "      <td></td>\n",
       "      <td>75</td>\n",
       "      <td>histology</td>\n",
       "      <td>mRNA</td>\n",
       "      <td>Trizol</td>\n",
       "      <td>...</td>\n",
       "      <td></td>\n",
       "      <td>15032619.0</td>\n",
       "      <td>Illumina</td>\n",
       "      <td>5</td>\n",
       "      <td>2</td>\n",
       "      <td>maxillary process</td>\n",
       "      <td>excision</td>\n",
       "      <td>RNA-seq</td>\n",
       "      <td>totalRNA</td>\n",
       "      <td>35</td>\n",
       "    </tr>\n",
       "    <tr>\n",
       "      <th>3</th>\n",
       "      <td>60</td>\n",
       "      <td>NA</td>\n",
       "      <td>14068</td>\n",
       "      <td>Fragmentation Buffer from Illumina</td>\n",
       "      <td>20</td>\n",
       "      <td></td>\n",
       "      <td>80</td>\n",
       "      <td>histology</td>\n",
       "      <td>mRNA</td>\n",
       "      <td>Trizol</td>\n",
       "      <td>...</td>\n",
       "      <td></td>\n",
       "      <td>15032619.0</td>\n",
       "      <td>Illumina</td>\n",
       "      <td>5</td>\n",
       "      <td>4</td>\n",
       "      <td>mandibular process</td>\n",
       "      <td>excision</td>\n",
       "      <td>RNA-seq</td>\n",
       "      <td>totalRNA</td>\n",
       "      <td>40</td>\n",
       "    </tr>\n",
       "    <tr>\n",
       "      <th>4</th>\n",
       "      <td>62</td>\n",
       "      <td>NA</td>\n",
       "      <td>14130</td>\n",
       "      <td>Fragmentation Buffer from Illumina</td>\n",
       "      <td>25</td>\n",
       "      <td>None</td>\n",
       "      <td>85</td>\n",
       "      <td>Histology</td>\n",
       "      <td>mRNA</td>\n",
       "      <td>Trizol</td>\n",
       "      <td>...</td>\n",
       "      <td>NA</td>\n",
       "      <td>15032619</td>\n",
       "      <td>Illumina</td>\n",
       "      <td>5</td>\n",
       "      <td>1088</td>\n",
       "      <td>face</td>\n",
       "      <td>Excision</td>\n",
       "      <td>RNA-seq</td>\n",
       "      <td>totalRNA</td>\n",
       "      <td>43</td>\n",
       "    </tr>\n",
       "    <tr>\n",
       "      <th>5</th>\n",
       "      <td>64</td>\n",
       "      <td>NA</td>\n",
       "      <td>14130</td>\n",
       "      <td>Fragmentation Buffer from Illumina</td>\n",
       "      <td>30</td>\n",
       "      <td>None</td>\n",
       "      <td>90</td>\n",
       "      <td>Histology</td>\n",
       "      <td>mRNA</td>\n",
       "      <td>Trizol</td>\n",
       "      <td>...</td>\n",
       "      <td>None</td>\n",
       "      <td>15032619</td>\n",
       "      <td>Illumina</td>\n",
       "      <td>5</td>\n",
       "      <td>1089</td>\n",
       "      <td>face</td>\n",
       "      <td>Excision</td>\n",
       "      <td>RNA-seq</td>\n",
       "      <td>totalRNA</td>\n",
       "      <td>43</td>\n",
       "    </tr>\n",
       "  </tbody>\n",
       "</table>\n",
       "<p>6 rows × 22 columns</p>\n",
       "</div>"
      ],
      "text/plain": [
       "   alignment_id cell_count  dataset                fragmentation_method  id  \\\n",
       "0            41         NA    14068  Fragmentation Buffer from Illumina   1   \n",
       "1            46         NA    14068  Fragmentation Buffer from Illumina   6   \n",
       "2            55         NA    14068  Fragmentation Buffer from Illumina  15   \n",
       "3            60         NA    14068  Fragmentation Buffer from Illumina  20   \n",
       "4            62         NA    14130  Fragmentation Buffer from Illumina  25   \n",
       "5            64         NA    14130  Fragmentation Buffer from Illumina  30   \n",
       "\n",
       "  isolation_protocol  library_id    markers molecule_type pretreatment  \\\n",
       "0                             61  histology          mRNA       Trizol   \n",
       "1                             66  histology          mRNA       Trizol   \n",
       "2                             75  histology          mRNA       Trizol   \n",
       "3                             80  histology          mRNA       Trizol   \n",
       "4               None          85  Histology          mRNA       Trizol   \n",
       "5               None          90  Histology          mRNA       Trizol   \n",
       "\n",
       "     ...    reagent_batch_number reagent_catalog_number reagent_source  \\\n",
       "0    ...                                     15032619.0       Illumina   \n",
       "1    ...                                     15032619.0       Illumina   \n",
       "2    ...                                     15032619.0       Illumina   \n",
       "3    ...                                     15032619.0       Illumina   \n",
       "4    ...                      NA               15032619       Illumina   \n",
       "5    ...                    None               15032619       Illumina   \n",
       "\n",
       "  replicate sample    sample_composition  sample_purification sample_type  \\\n",
       "0         5      1  medial nasal process             excision     RNA-seq   \n",
       "1         5      3  latero nasal process             excision     RNA-seq   \n",
       "2         5      2     maxillary process             excision     RNA-seq   \n",
       "3         5      4    mandibular process             excision     RNA-seq   \n",
       "4         5   1088                  face             Excision     RNA-seq   \n",
       "5         5   1089                  face             Excision     RNA-seq   \n",
       "\n",
       "  selection tracks_id  \n",
       "0  totalRNA        21  \n",
       "1  totalRNA        26  \n",
       "2  totalRNA        35  \n",
       "3  totalRNA        40  \n",
       "4  totalRNA        43  \n",
       "5  totalRNA        43  \n",
       "\n",
       "[6 rows x 22 columns]"
      ]
     },
     "execution_count": 10,
     "metadata": {},
     "output_type": "execute_result"
    }
   ],
   "source": [
    "entities.dataframe"
   ]
  },
  {
   "cell_type": "markdown",
   "metadata": {},
   "source": [
    "# Table Instances\n",
    "So far we have discussed _base_ tables. A _base_ table is a representation of the table as it is stored in the ERMrest catalog. A table _instance_ is a usage or reference of a table _within the context_ of a data path. We may link together multiple tables and thus create multiple table instances within a data path.\n",
    "\n",
    "For example, in `path.link(dataset).link(sample).link(assay)` the table instance `sample` is no longer the same as the original base table `sample` because _within the context_ of this data path the `sample` entities must satisfy the constraints of the data path. The `sample` entities must reference a `dataset` entity, and they must be referenced by a `assay` entity. Thus within this path, the entity set for `sample` may be quite different than the entity set for the base table on its own."
   ]
  },
  {
   "cell_type": "markdown",
   "metadata": {},
   "source": [
    "## Table instances are bound to the path\n",
    "Whenever you initiate a data path (e.g., `table.path`) or link a table to a path (e.g., `path.link(table)`) a table instance is created and bound to the DataPath object (e.g., `path`). These table instances can be referenced via the `DataPath`'s `table_instances` container or directly as a property of the `DataPath` object itself."
   ]
  },
  {
   "cell_type": "code",
   "execution_count": 11,
   "metadata": {
    "collapsed": true
   },
   "outputs": [],
   "source": [
    "dataset_instance = path.table_instances['dataset']\n",
    "# or\n",
    "dataset_instance = path.dataset"
   ]
  },
  {
   "cell_type": "markdown",
   "metadata": {},
   "source": [
    "## Aliases for table instances\n",
    "Whenever a table instance is created and bound to the path, it is given a name. If no name is specified for it, it will be named after the name of its base table. For example, a table named \"My Table\" will result in a table instance named \"My Table\". Tables may appear _more than once_ in a path, and if the name is taken, the instance will be given the \"'base name' + `number`\" (e.g., \"My Table2\").\n",
    "\n",
    "You may with to specify the name of your table instance. In database terms, these alternate names are called an \"alias\" name."
   ]
  },
  {
   "cell_type": "code",
   "execution_count": 12,
   "metadata": {},
   "outputs": [
    {
     "data": {
      "text/plain": [
       "<deriva_common.datapath.DataPath at 0x10b3675f8>"
      ]
     },
     "execution_count": 12,
     "metadata": {},
     "output_type": "execute_result"
    }
   ],
   "source": [
    "path.link(dataset.alias('D'))"
   ]
  },
  {
   "cell_type": "code",
   "execution_count": 13,
   "metadata": {},
   "outputs": [
    {
     "data": {
      "text/plain": [
       "'https://www.facebase.org/ermrest/catalog/1/entity/dataset:=isa:dataset/sample:=isa:sample/assay:=isa:assay/molecule_type=mRNA/D:=isa:dataset'"
      ]
     },
     "execution_count": 13,
     "metadata": {},
     "output_type": "execute_result"
    }
   ],
   "source": [
    "path.D.uri"
   ]
  },
  {
   "cell_type": "markdown",
   "metadata": {},
   "source": [
    "You'll notice that in this path we added an additional _instance_ of the `dataset` table from our catalog model. In addition, we linked it to the `isa.assay` table. This was possible because in this model, there is a foriegn key reference from the base table `assay` to the base table `dataset`. The entities for the table instance named `dataset` and the instance name `D` will likely consist of different entities because the constraints for each are different."
   ]
  },
  {
   "cell_type": "markdown",
   "metadata": {
    "collapsed": true
   },
   "source": [
    "## Selecting Attributes From Linked Entities\n",
    "\n",
    "Returning to the initial example, if we want to project additional attributes\n",
    "from other entities in the DataPath, we need to be able to reference the\n",
    "\"table instances\" at any point in the path. First, we will build our original path."
   ]
  },
  {
   "cell_type": "code",
   "execution_count": 14,
   "metadata": {},
   "outputs": [
    {
     "name": "stdout",
     "output_type": "stream",
     "text": [
      "https://www.facebase.org/ermrest/catalog/1/entity/dataset:=isa:dataset/sample:=isa:sample/assay:=isa:assay/molecule_type=mRNA\n"
     ]
    }
   ],
   "source": [
    "path = dataset.path.link(sample).link(assay).filter(assay.molecule_type == 'mRNA')\n",
    "print(path.uri) "
   ]
  },
  {
   "cell_type": "markdown",
   "metadata": {},
   "source": [
    "Now let's fetch an entity set with attributes pulled from each of the table instances in the path."
   ]
  },
  {
   "cell_type": "code",
   "execution_count": 15,
   "metadata": {},
   "outputs": [
    {
     "name": "stdout",
     "output_type": "stream",
     "text": [
      "https://www.facebase.org/ermrest/catalog/1/attribute/dataset:=isa:dataset/sample:=isa:sample/assay:=isa:assay/molecule_type=mRNA/dataset:accession,local_sample_id:=sample:local_identifier,assay_molecule:=assay:molecule_type\n"
     ]
    }
   ],
   "source": [
    "entities = path.entities(path.dataset.accession, local_sample_id=path.sample.local_identifier, assay_molecule=path.assay.molecule_type)\n",
    "print(entities.uri)"
   ]
  },
  {
   "cell_type": "markdown",
   "metadata": {},
   "source": [
    "**Notice** that the `EntitySet` also has a `uri` property. This URI may differ from the origin path URI because the attribute projection does not get appended to the path URI."
   ]
  },
  {
   "cell_type": "code",
   "execution_count": 16,
   "metadata": {},
   "outputs": [
    {
     "data": {
      "text/plain": [
       "False"
      ]
     },
     "execution_count": 16,
     "metadata": {},
     "output_type": "execute_result"
    }
   ],
   "source": [
    "path.uri == entities.uri"
   ]
  },
  {
   "cell_type": "markdown",
   "metadata": {},
   "source": [
    "As usual, `fetch(...)` the entities from the catalog."
   ]
  },
  {
   "cell_type": "code",
   "execution_count": 17,
   "metadata": {},
   "outputs": [
    {
     "name": "stdout",
     "output_type": "stream",
     "text": [
      "{'accession': 'FB00000806.2', 'local_sample_id': 'E11.5_MNP', 'assay_molecule': 'mRNA'}\n",
      "{'accession': 'FB00000806.2', 'local_sample_id': 'E11.5_LNP', 'assay_molecule': 'mRNA'}\n",
      "{'accession': 'FB00000806.2', 'local_sample_id': 'E11.5_MX', 'assay_molecule': 'mRNA'}\n",
      "{'accession': 'FB00000806.2', 'local_sample_id': 'E11.5_MD', 'assay_molecule': 'mRNA'}\n",
      "{'accession': 'FB00000807.2', 'local_sample_id': 'CS22_11865', 'assay_molecule': 'mRNA'}\n"
     ]
    }
   ],
   "source": [
    "entities.fetch(limit=5)\n",
    "for e in entities:\n",
    "    print(e)"
   ]
  }
 ],
 "metadata": {
  "kernelspec": {
   "display_name": "Python 3",
   "language": "python",
   "name": "python3"
  },
  "language_info": {
   "codemirror_mode": {
    "name": "ipython",
    "version": 3
   },
   "file_extension": ".py",
   "mimetype": "text/x-python",
   "name": "python",
   "nbconvert_exporter": "python",
   "pygments_lexer": "ipython3",
   "version": "3.6.2"
  }
 },
 "nbformat": 4,
 "nbformat_minor": 2
}
