{
 "cells": [
  {
   "cell_type": "code",
   "execution_count": 1,
   "metadata": {
    "collapsed": true
   },
   "outputs": [],
   "source": [
    "# This notebook gives an example of how to build relativley simple data paths.\n",
    "# It assumes that you understand the concepts presented in the example 2\n",
    "# notebook.\n",
    "\n",
    "# This examples requires that you understand a little bit about the example\n",
    "# catalog data model, which is based on the FaceBase project.\n",
    "\n",
    "# Key tables:\n",
    "#  - 'dataset' : represents a unit of data usually a 'study' or 'experiment'\n",
    "#  - 'sample' : a biosample\n",
    "#  - 'assay' : a bioassay (typically RNA-seq or ChIP-seq assays)\n",
    "\n",
    "# Relationships\n",
    "#  - 'dataset <- sample': A dataset may have one to many samples. I.e., there \n",
    "#    is a foreign key reference from sample to dataset.\n",
    "#  - 'sample <- assay': A sample may have one to many assays. I.e., there is a\n",
    "#    foreign key reference from assay to sample."
   ]
  },
  {
   "cell_type": "code",
   "execution_count": 2,
   "metadata": {
    "collapsed": true
   },
   "outputs": [],
   "source": [
    "# Import deriva modules\n",
    "from deriva_common import ErmrestCatalog, get_credential"
   ]
  },
  {
   "cell_type": "code",
   "execution_count": 3,
   "metadata": {
    "collapsed": true
   },
   "outputs": [],
   "source": [
    "# Connect with the deriva catalog\n",
    "protocol = 'https'\n",
    "hostname = 'www.facebase.org'\n",
    "catalog_number = 1\n",
    "credential = None\n",
    "# If you need to authenticate, use Deriva Auth agent and get the credential\n",
    "# credential = get_credential(hostname)\n",
    "catalog = ErmrestCatalog(protocol, hostname, catalog_number, credential)"
   ]
  },
  {
   "cell_type": "code",
   "execution_count": 4,
   "metadata": {
    "collapsed": true
   },
   "outputs": [],
   "source": [
    "# Get the path builder interface for this catalog\n",
    "pb = catalog.getPathBuilder()"
   ]
  },
  {
   "cell_type": "code",
   "execution_count": 5,
   "metadata": {
    "collapsed": false
   },
   "outputs": [],
   "source": [
    "# Get a reference to the key tables. Note that we define local varialbes only\n",
    "# for convenience.\n",
    "dataset = pb.isa.dataset\n",
    "sample = pb.isa.sample\n",
    "assay = pb.isa.assay"
   ]
  },
  {
   "cell_type": "code",
   "execution_count": 6,
   "metadata": {
    "collapsed": false
   },
   "outputs": [
    {
     "name": "stdout",
     "output_type": "stream",
     "text": [
      "https://www.facebase.org/ermrest/catalog/1/entity/isa:dataset/isa:sample/isa:assay\n"
     ]
    }
   ],
   "source": [
    "# Build a data path by linking together different tables that are related.\n",
    "# By default, data path returns entities for the _last_ linked entity set\n",
    "# in the path. The following data path will therefore return assays not\n",
    "# datasets.\n",
    "assays_datapath = dataset.link(sample).link(assay)\n",
    "print(assays_datapath.uri) # the ERMrest URL"
   ]
  },
  {
   "cell_type": "code",
   "execution_count": 7,
   "metadata": {
    "collapsed": true
   },
   "outputs": [],
   "source": [
    "# Get the entity set for this linked data path\n",
    "assays_entities = assays_datapath.entities()"
   ]
  },
  {
   "cell_type": "code",
   "execution_count": 8,
   "metadata": {
    "collapsed": false
   },
   "outputs": [
    {
     "data": {
      "text/plain": [
       "171"
      ]
     },
     "execution_count": 8,
     "metadata": {},
     "output_type": "execute_result"
    }
   ],
   "source": [
    "# The entity set behaves like a container.\n",
    "len(assays_entities)"
   ]
  },
  {
   "cell_type": "code",
   "execution_count": 9,
   "metadata": {
    "collapsed": false
   },
   "outputs": [
    {
     "name": "stdout",
     "output_type": "stream",
     "text": [
      "https://www.facebase.org/ermrest/catalog/1/entity/isa:dataset/isa:sample/isa:assay/(molecule_type=mRNA)\n"
     ]
    }
   ],
   "source": [
    "# Building off of the path, a filter can be added. In this filter, the assay's\n",
    "# attriburtes may be reference in the expressions. In these binary comparisons \n",
    "# the left operand must be an attribute while the right operand must a literal\n",
    "# value.\n",
    "assays_datapath_filtered = assays_datapath.filter(assay.molecule_type == 'mRNA')\n",
    "print(assays_datapath_filtered.uri) # the ERMrest URL\n",
    "assays_datapath_filtered_entities = assays_datapath_filtered.entities()"
   ]
  },
  {
   "cell_type": "code",
   "execution_count": 10,
   "metadata": {
    "collapsed": false
   },
   "outputs": [
    {
     "data": {
      "text/plain": [
       "6"
      ]
     },
     "execution_count": 10,
     "metadata": {},
     "output_type": "execute_result"
    }
   ],
   "source": [
    "# Access and print one of the entities in the set\n",
    "len(assays_datapath_filtered_entities)"
   ]
  },
  {
   "cell_type": "code",
   "execution_count": null,
   "metadata": {
    "collapsed": false
   },
   "outputs": [
    {
     "name": "stdout",
     "output_type": "stream",
     "text": [
      "[{'id': 15, 'dataset': 14068, 'sample': 2, 'replicate': '5', 'sample_composition': 'maxillary process', 'sample_type': 'RNA-seq', 'molecule_type': 'mRNA', 'sample_purification': 'excision', 'markers': 'histology', 'isolation_protocol': '', 'cell_count': 'NA', 'protocol': '', 'pretreatment': 'Trizol', 'fragmentation_method': 'Fragmentation Buffer from Illumina', 'reagent': 'TruSeq stranded total RNA kit', 'reagent_source': 'Illumina', 'reagent_catalog_number': '15032619.0', 'reagent_batch_number': '', 'selection': 'totalRNA', 'library_id': 75, 'alignment_id': 55, 'tracks_id': 35}, {'id': 20, 'dataset': 14068, 'sample': 4, 'replicate': '5', 'sample_composition': 'mandibular process', 'sample_type': 'RNA-seq', 'molecule_type': 'mRNA', 'sample_purification': 'excision', 'markers': 'histology', 'isolation_protocol': '', 'cell_count': 'NA', 'protocol': '', 'pretreatment': 'Trizol', 'fragmentation_method': 'Fragmentation Buffer from Illumina', 'reagent': 'TruSeq stranded total RNA kit', 'reagent_source': 'Illumina', 'reagent_catalog_number': '15032619.0', 'reagent_batch_number': '', 'selection': 'totalRNA', 'library_id': 80, 'alignment_id': 60, 'tracks_id': 40}]\n"
     ]
    }
   ],
   "source": [
    "# Access and print a small slice of entities from the set\n",
    "print (assays_datapath_filtered_entities[2:4])"
   ]
  },
  {
   "cell_type": "code",
   "execution_count": null,
   "metadata": {
    "collapsed": false
   },
   "outputs": [],
   "source": [
    "# Convert to a DataFrame\n",
    "assays_datapath_filtered_entities.dataframe"
   ]
  },
  {
   "cell_type": "code",
   "execution_count": null,
   "metadata": {
    "collapsed": false
   },
   "outputs": [],
   "source": [
    "# IMPORTANT: methods on data paths (i.e., link or filter and others) return new\n",
    "# data path objects. They do not alter the existing data path. Notice here that\n",
    "# getting the entities for the original data path returns the same number as\n",
    "# before. It did not change when the filters were added, as that created and\n",
    "# returned a new data path object.\n",
    "len(assays_datapath.entities())"
   ]
  },
  {
   "cell_type": "code",
   "execution_count": null,
   "metadata": {
    "collapsed": true
   },
   "outputs": [],
   "source": [
    "# Returning to the initial example, if we want to project additional attributes\n",
    "# from other entities in the data path, we need to be able to reference the\n",
    "# \"instances\" of linked entity sets at any point in the path. To do so, first\n",
    "# we need to define a few table \"aliases\" that we can use in the paths.\n",
    "\n",
    "# Start by defining an alias for the 'dataset' table\n",
    "D = dataset.as_('D')"
   ]
  },
  {
   "cell_type": "code",
   "execution_count": null,
   "metadata": {
    "collapsed": false
   },
   "outputs": [],
   "source": [
    "# Like the original table, an alias may be used to reference the columns of the\n",
    "# original table.\n",
    "D.columns['accession']"
   ]
  },
  {
   "cell_type": "code",
   "execution_count": null,
   "metadata": {
    "collapsed": false
   },
   "outputs": [],
   "source": [
    "# Now repeat the path but use the aliased table in place of the table.\n",
    "datapath = D.link(sample).link(assay)\n",
    "\n",
    "# Project attributes from the last referenced table and any aliased tables.\n",
    "datapath = datapath.attributes(D.accession, assay.molecule_type, assay.sample_type)\n",
    "print(datapath.uri)"
   ]
  },
  {
   "cell_type": "code",
   "execution_count": null,
   "metadata": {
    "collapsed": false
   },
   "outputs": [],
   "source": [
    "# Get the entity set\n",
    "entities = datapath.entities()\n",
    "for e in entities[0:10]:\n",
    "    print(e)"
   ]
  },
  {
   "cell_type": "code",
   "execution_count": null,
   "metadata": {
    "collapsed": true
   },
   "outputs": [],
   "source": [
    "# Now define another alias so that sample's columns may be projected as well.\n",
    "S = sample.as_('S')"
   ]
  },
  {
   "cell_type": "code",
   "execution_count": null,
   "metadata": {
    "collapsed": false
   },
   "outputs": [],
   "source": [
    "# This is an all new datapath instance. When linking the samples table we will\n",
    "# need to first indicate which table is being linked, and then what alias to\n",
    "# link it \"as\". This is similar in spirit to the SQL concept of joining tables\n",
    "# and renaming them \"as\" a given table instance name.\n",
    "datapath = D.link(sample, as_=S).link(assay).attributes(D.accession, S.stage, assay.sample_type)\n",
    "print(datapath.uri)"
   ]
  },
  {
   "cell_type": "code",
   "execution_count": null,
   "metadata": {
    "collapsed": false
   },
   "outputs": [],
   "source": [
    "# Get a few entities and print them out\n",
    "for e in datapath.entities(limit=5):\n",
    "    print(e)"
   ]
  },
  {
   "cell_type": "code",
   "execution_count": null,
   "metadata": {
    "collapsed": true
   },
   "outputs": [],
   "source": []
  }
 ],
 "metadata": {
  "kernelspec": {
   "display_name": "Python 3",
   "language": "python",
   "name": "python3"
  },
  "language_info": {
   "codemirror_mode": {
    "name": "ipython",
    "version": 3
   },
   "file_extension": ".py",
   "mimetype": "text/x-python",
   "name": "python",
   "nbconvert_exporter": "python",
   "pygments_lexer": "ipython3",
   "version": "3.6.0"
  }
 },
 "nbformat": 4,
 "nbformat_minor": 2
}
